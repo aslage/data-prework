{
 "cells": [
  {
   "cell_type": "markdown",
   "metadata": {},
   "source": [
    "<img src=\"https://bit.ly/2VnXWr2\" width=\"100\" align=\"left\">"
   ]
  },
  {
   "cell_type": "markdown",
   "metadata": {},
   "source": [
    "# Bus\n",
    "\n",
    "This bus has a passenger entry and exit control system to monitor the number of occupants it carries and thus detect when there are too many.\n",
    "\n",
    "At each stop, the entry and exit of passengers is represented by a tuple consisting of two integer numbers.\n",
    "```\n",
    "bus_stop = (in, out)\n",
    "```\n",
    "The succession of stops is represented by a list of these tuples.\n",
    "```\n",
    "stops = [(in1, out1), (in2, out2), (in3, out3), (in4, out4)]\n",
    "```\n",
    "\n",
    "## Tools\n",
    "You don't necessarily need to use all the tools. Maybe you opt to use some of them or completely different ones, they are given to help you shape the exercise. Programming exercises can be solved in many different ways.\n",
    "* Data structures: **lists, tuples**\n",
    "* Loop: **while/for loops**\n",
    "* Functions: **min, max, len**\n",
    "\n",
    "## Tasks"
   ]
  },
  {
   "cell_type": "code",
   "execution_count": 2,
   "metadata": {},
   "outputs": [],
   "source": [
    "# Variables\n",
    "stops = [(10, 0), (4, 1), (3, 5), (3, 4), (5, 1), (1, 5), (5, 8), (4, 6), (2, 3)]"
   ]
  },
  {
   "cell_type": "markdown",
   "metadata": {},
   "source": [
    "#### 1. Calculate the number of stops."
   ]
  },
  {
   "cell_type": "code",
   "execution_count": 2,
   "metadata": {},
   "outputs": [
    {
     "name": "stdout",
     "output_type": "stream",
     "text": [
      "9\n"
     ]
    }
   ],
   "source": [
    "print(len(stops))"
   ]
  },
  {
   "cell_type": "markdown",
   "metadata": {},
   "source": [
    "#### 2. Assign to a variable a list whose elements are the number of passengers at each stop (in-out).\n",
    "Each item depends on the previous item in the list + in - out."
   ]
  },
  {
   "cell_type": "code",
   "execution_count": 1,
   "metadata": {},
   "outputs": [
    {
     "name": "stdout",
     "output_type": "stream",
     "text": [
      "Stop 1: 10\n",
      "Stop 2: 13\n",
      "Stop 3: 11\n",
      "Stop 4: 10\n",
      "Stop 5: 14\n",
      "Stop 6: 10\n",
      "Stop 7: 7\n",
      "Stop 8: 5\n",
      "Stop 9: 4\n",
      "[10, 13, 11, 10, 14, 10, 7, 5, 4]\n"
     ]
    }
   ],
   "source": [
    "stops = [(10, 0), (4, 1), (3, 5), (3, 4), (5, 1), (1, 5), (5, 8), (4, 6), (2, 3)]\n",
    "stop1=stops[0][0]-stops[0][1]\n",
    "stop2=stop1+stops[1][0]-stops[1][1]\n",
    "stop3=stop2+stops[2][0]-stops[2][1]\n",
    "stop4=stop3+stops[3][0]-stops[3][1]\n",
    "stop5=stop4+stops[4][0]-stops[4][1]\n",
    "stop6=stop5+stops[5][0]-stops[5][1]\n",
    "stop7=stop6+stops[6][0]-stops[6][1]\n",
    "stop8=stop7+stops[7][0]-stops[7][1]\n",
    "stop9=stop8+stops[8][0]-stops[8][1]\n",
    "\n",
    "print(\"Stop 1:\",stop1)\n",
    "print(\"Stop 2:\",stop2)\n",
    "print(\"Stop 3:\",stop3)\n",
    "print(\"Stop 4:\",stop4)\n",
    "print(\"Stop 5:\",stop5)\n",
    "print(\"Stop 6:\",stop6)\n",
    "print(\"Stop 7:\",stop7)\n",
    "print(\"Stop 8:\",stop8)\n",
    "print(\"Stop 9:\",stop9)\n",
    "\n",
    "passengers=[stop1,stop2,stop3,stop4,stop5,stop6,stop7,stop8,stop9]\n",
    "print(passengers)\n",
    "\n",
    "def funcao(a):\n",
    "    numero=0\n",
    "    entram=0\n",
    "    saiem=0\n",
    "    for i in range(0,len(stops)):\n",
    "        numero = numero + entram - saiem"
   ]
  },
  {
   "cell_type": "markdown",
   "metadata": {},
   "source": [
    "#### 3. Find the maximum occupation of the bus."
   ]
  },
  {
   "cell_type": "code",
   "execution_count": 2,
   "metadata": {},
   "outputs": [
    {
     "name": "stdout",
     "output_type": "stream",
     "text": [
      "[10, 13, 11, 10, 14, 10, 7, 5, 4]\n",
      "14\n"
     ]
    }
   ],
   "source": [
    "passengers=[stop1,stop2,stop3,stop4,stop5,stop6,stop7,stop8,stop9]\n",
    "print(passengers)\n",
    "print(max(passengers))"
   ]
  },
  {
   "cell_type": "markdown",
   "metadata": {},
   "source": [
    "#### 4. Calculate the average occupation. And the standard deviation."
   ]
  },
  {
   "cell_type": "code",
   "execution_count": 3,
   "metadata": {},
   "outputs": [
    {
     "name": "stdout",
     "output_type": "stream",
     "text": [
      "9.333333333333334\n"
     ]
    }
   ],
   "source": [
    "average=sum(passengers)/len(passengers)\n",
    "print(average)"
   ]
  }
 ],
 "metadata": {
  "kernelspec": {
   "display_name": "Python 3",
   "language": "python",
   "name": "python3"
  },
  "language_info": {
   "codemirror_mode": {
    "name": "ipython",
    "version": 3
   },
   "file_extension": ".py",
   "mimetype": "text/x-python",
   "name": "python",
   "nbconvert_exporter": "python",
   "pygments_lexer": "ipython3",
   "version": "3.7.6"
  }
 },
 "nbformat": 4,
 "nbformat_minor": 2
}
